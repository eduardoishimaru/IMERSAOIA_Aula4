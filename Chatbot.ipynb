{
  "nbformat": 4,
  "nbformat_minor": 0,
  "metadata": {
    "colab": {
      "provenance": [],
      "authorship_tag": "ABX9TyOKMymr/Bc1+BdHx/uIN4PE",
      "include_colab_link": true
    },
    "kernelspec": {
      "name": "python3",
      "display_name": "Python 3"
    },
    "language_info": {
      "name": "python"
    }
  },
  "cells": [
    {
      "cell_type": "markdown",
      "metadata": {
        "id": "view-in-github",
        "colab_type": "text"
      },
      "source": [
        "<a href=\"https://colab.research.google.com/github/eduardoishimaru/IMERSAOIA_Aula4/blob/main/Chatbot.ipynb\" target=\"_parent\"><img src=\"https://colab.research.google.com/assets/colab-badge.svg\" alt=\"Open In Colab\"/></a>"
      ]
    },
    {
      "cell_type": "markdown",
      "source": [],
      "metadata": {
        "id": "uzWuvw_zN7RE"
      }
    },
    {
      "cell_type": "markdown",
      "source": [],
      "metadata": {
        "id": "o8YkLQgCN1BM"
      }
    },
    {
      "cell_type": "code",
      "execution_count": null,
      "metadata": {
        "id": "r4t6Cs-WM99t"
      },
      "outputs": [],
      "source": [
        "#Instalando o SDK go Google\n",
        "!pip install -q -U google-generativeai"
      ]
    },
    {
      "cell_type": "code",
      "source": [
        "# Import the Python SDK\n",
        "import google.generativeai as genai\n",
        "from google.colab import userdata\n",
        "api_key = userdata.get('GOOGLE_API_KEY')\n",
        "# Used to securely store your API key\n",
        "genai.configure(api_key=api_key)"
      ],
      "metadata": {
        "id": "cJnGCZFONcuM"
      },
      "execution_count": null,
      "outputs": []
    },
    {
      "cell_type": "code",
      "source": [],
      "metadata": {
        "id": "-oFdN-Sqgc1e"
      },
      "execution_count": null,
      "outputs": []
    },
    {
      "cell_type": "markdown",
      "source": [
        "Listar os modelos disponiveis"
      ],
      "metadata": {
        "id": "p01JP0aFNuQr"
      }
    },
    {
      "cell_type": "code",
      "source": [
        "for m in genai.list_models():\n",
        "  if 'generateContent' in m.supported_generation_methods:\n",
        "    print(f\"{m.name}\")"
      ],
      "metadata": {
        "colab": {
          "base_uri": "https://localhost:8080/",
          "height": 139
        },
        "id": "fY-W6vjdNqbU",
        "outputId": "7c114093-b2c4-4faf-e3c0-8d32c93793c2"
      },
      "execution_count": null,
      "outputs": [
        {
          "output_type": "stream",
          "name": "stdout",
          "text": [
            "models/gemini-1.0-pro\n",
            "models/gemini-1.0-pro-001\n",
            "models/gemini-1.0-pro-latest\n",
            "models/gemini-1.0-pro-vision-latest\n",
            "models/gemini-1.5-pro-latest\n",
            "models/gemini-pro\n",
            "models/gemini-pro-vision\n"
          ]
        }
      ]
    },
    {
      "cell_type": "markdown",
      "source": [
        "Configurações Manuais"
      ],
      "metadata": {
        "id": "mPlBT33kSwor"
      }
    },
    {
      "cell_type": "code",
      "source": [
        "generation_config = {\n",
        "    \"candidate_count\": 1,\n",
        "    \"temperature\": 0.5,\n",
        "\n",
        "}"
      ],
      "metadata": {
        "id": "lg7ShRJFQ0og"
      },
      "execution_count": null,
      "outputs": []
    },
    {
      "cell_type": "code",
      "source": [
        "safety_settings = {\n",
        "    \"HARASSMENT\": \"BLOCK_NONE\",\n",
        "    \"HATE\":\"BLOCK_NONE\",\n",
        "    \"SEXUAL\":\"BLOCK_NONE\",\n",
        "    \"DANGEROUS\":\"BLOCK_NONE\",\n",
        "}"
      ],
      "metadata": {
        "id": "At2gl0i5Rl9Z"
      },
      "execution_count": null,
      "outputs": []
    },
    {
      "cell_type": "markdown",
      "source": [
        "Iniciar o modelo"
      ],
      "metadata": {
        "id": "tdBrshcHS0gC"
      }
    },
    {
      "cell_type": "code",
      "source": [
        "model = genai.GenerativeModel(model_name=\"gemini-1.0-pro\",\n",
        "                              generation_config=generation_config,\n",
        "                              safety_settings=safety_settings)"
      ],
      "metadata": {
        "id": "6BObQwkkS3fb"
      },
      "execution_count": null,
      "outputs": []
    },
    {
      "cell_type": "markdown",
      "source": [
        "Gerar conteudo"
      ],
      "metadata": {
        "id": "0qyDOpM2T7aM"
      }
    },
    {
      "cell_type": "code",
      "source": [
        "response = model.generate_content(\"Em portugues, me de dicas de como iniciar a aprender Python\")\n",
        "print(response.text)"
      ],
      "metadata": {
        "colab": {
          "base_uri": "https://localhost:8080/",
          "height": 677
        },
        "id": "hXAQv5zFT-Is",
        "outputId": "dd703316-2065-42ac-971e-b71094a25d22"
      },
      "execution_count": null,
      "outputs": [
        {
          "output_type": "stream",
          "name": "stdout",
          "text": [
            "**Dicas para Iniciar a Aprender Python**\n",
            "\n",
            "**1. Escolha um Ambiente de Desenvolvimento:**\n",
            "* Instale o Python no seu computador (versão mais recente recomendada).\n",
            "* Use um IDE (Ambiente de Desenvolvimento Integrado) como PyCharm ou Visual Studio Code para facilitar o desenvolvimento.\n",
            "\n",
            "**2. Comece com o Básico:**\n",
            "* Aprenda os conceitos fundamentais da linguagem: variáveis, tipos de dados, operadores e estruturas de controle.\n",
            "* Leia tutoriais e documentação oficial para entender a sintaxe e a semântica do Python.\n",
            "\n",
            "**3. Pratique Regularmente:**\n",
            "* Escreva códigos simples para aplicar o que aprendeu.\n",
            "* Resolva problemas e desafios de codificação para aprimorar suas habilidades.\n",
            "* Participe de comunidades online ou fóruns para obter ajuda e compartilhar conhecimento.\n",
            "\n",
            "**4. Foco na Compreensão:**\n",
            "* Não memorize sintaxe, mas entenda os conceitos subjacentes.\n",
            "* Explique o código que você escreve para si mesmo ou para outras pessoas.\n",
            "* Use ferramentas de depuração para identificar e corrigir erros.\n",
            "\n",
            "**5. Utilize Recursos Online:**\n",
            "* Acesse tutoriais e cursos gratuitos em plataformas como Coursera, Udemy e edX.\n",
            "* Leia blogs e artigos de especialistas em Python para se manter atualizado.\n",
            "* Participe de grupos e fóruns online para se conectar com outros alunos e profissionais.\n",
            "\n",
            "**6. Construa Projetos:**\n",
            "* Depois de dominar o básico, comece a construir projetos simples como calculadoras, jogos ou ferramentas de automação.\n",
            "* Isso ajudará você a aplicar seus conhecimentos e a desenvolver habilidades práticas.\n",
            "\n",
            "**7. Aprenda com os Erros:**\n",
            "* Erros são parte do processo de aprendizado.\n",
            "* Analise os erros e tente entender o que deu errado.\n",
            "* Use ferramentas de depuração e documentação para encontrar soluções.\n",
            "\n",
            "**8. Seja Paciente e Persistente:**\n",
            "* Aprender Python leva tempo e esforço.\n",
            "* Não desanime com os desafios, mas persista e continue praticando.\n",
            "* Lembre-se de que o progresso é gradual e que cada passo o aproxima de dominar a linguagem.\n"
          ]
        }
      ]
    },
    {
      "cell_type": "markdown",
      "source": [
        "iniciar o chat com histórico"
      ],
      "metadata": {
        "id": "OkZQv1dTU-5u"
      }
    },
    {
      "cell_type": "code",
      "source": [
        "chat = model.start_chat(history=[])"
      ],
      "metadata": {
        "id": "DXKliZ9dUerU"
      },
      "execution_count": null,
      "outputs": []
    },
    {
      "cell_type": "code",
      "source": [
        "prompt = input(\"Esperando Prompt: \")\n",
        "while prompt != 'fim':\n",
        "  response = chat.send_message(prompt)\n",
        "  print (\"Resposta:\",response.text, \"\\n\")\n",
        "  prompt = input(\"Esperando Prompt: \")"
      ],
      "metadata": {
        "colab": {
          "base_uri": "https://localhost:8080/",
          "height": 191
        },
        "id": "ifM9Uh7ZVGNW",
        "outputId": "239e3123-7a4f-46e6-bedb-068107c3e643"
      },
      "execution_count": null,
      "outputs": [
        {
          "name": "stdout",
          "output_type": "stream",
          "text": [
            "Esperando Prompt: qual a capital do japão\n",
            "Resposta: Tóquio \n",
            "\n",
            "Esperando Prompt: quanto habitantes tem na cidade?\n",
            "Resposta: 13.960.344 (2023) \n",
            "\n",
            "Esperando Prompt: Qual a comida que representa a cidade\n",
            "Resposta: Sushi \n",
            "\n",
            "Esperando Prompt: fim\n"
          ]
        }
      ]
    },
    {
      "cell_type": "code",
      "source": [
        "chat.history\n"
      ],
      "metadata": {
        "colab": {
          "base_uri": "https://localhost:8080/"
        },
        "id": "JVvfSidVcals",
        "outputId": "58593696-4187-4bb7-e253-fde2415942c2"
      },
      "execution_count": null,
      "outputs": [
        {
          "output_type": "execute_result",
          "data": {
            "text/plain": [
              "[parts {\n",
              "   text: \"qual a capital do jap\\303\\243o\"\n",
              " }\n",
              " role: \"user\",\n",
              " parts {\n",
              "   text: \"T\\303\\263quio\"\n",
              " }\n",
              " role: \"model\",\n",
              " parts {\n",
              "   text: \"quanto habitantes tem na cidade?\"\n",
              " }\n",
              " role: \"user\",\n",
              " parts {\n",
              "   text: \"13.960.344 (2023)\"\n",
              " }\n",
              " role: \"model\",\n",
              " parts {\n",
              "   text: \"Qual a comida que representa a cidade\"\n",
              " }\n",
              " role: \"user\",\n",
              " parts {\n",
              "   text: \"Sushi\"\n",
              " }\n",
              " role: \"model\"]"
            ]
          },
          "metadata": {},
          "execution_count": 17
        }
      ]
    },
    {
      "cell_type": "code",
      "source": [
        "#Melhorando a visualização\n",
        "#Código disponível em https://ai.google/dev/tutorials/python/quickstart#import_packages\n",
        "import textwrap\n",
        "from IPython.display import display\n",
        "from IPython.display import Markdown\n",
        "\n",
        "def to_markdown(text):\n",
        "  text = text.replace('•', '  *')\n",
        "  return Markdown(textwrap.indent(text, '> ', predicate=lambda _: True))\n",
        "\n",
        "#Imprimindo o histórico:\n",
        "for message in chat.history:\n",
        "  display(to_markdown(f'**{message.role}**: {message.parts[0].text}'))\n",
        "  print('-'*100)"
      ],
      "metadata": {
        "id": "l9Ks_II0lCy2"
      },
      "execution_count": null,
      "outputs": []
    }
  ]
}